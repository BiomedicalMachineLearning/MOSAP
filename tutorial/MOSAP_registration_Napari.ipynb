{
 "cells": [
  {
   "cell_type": "code",
   "execution_count": 20,
   "id": "27a73d48",
   "metadata": {},
   "outputs": [],
   "source": [
    "from mosap.registration import save_transformation_model, read_transformation_model, get_itk_from_pil\n",
    "from mosap.registration import affine_registration_slides, bspline_registration_slides, sitk_transform_rgb\n",
    "import napari\n",
    "from skimage.io import imread\n",
    "from PIL import Image\n",
    "import numpy as np"
   ]
  },
  {
   "cell_type": "code",
   "execution_count": 2,
   "id": "57ef30bd",
   "metadata": {},
   "outputs": [],
   "source": [
    "path_to_image1 = '/Users/minhtran/Git_Packages/Sample_data/scene4_R1/scene_4_R1_DAPI-Stitching-01_RGB_ref.tif'\n",
    "path_to_image2 = '/Users/minhtran/Git_Packages/Sample_data/scene4_R2/scene_4_R2_DAPI-Stitching-01_RGB_ref.tif'\n"
   ]
  },
  {
   "cell_type": "code",
   "execution_count": 9,
   "id": "41264836",
   "metadata": {},
   "outputs": [],
   "source": [
    "transformer1_fn = '/Users/minhtran/Git_Packages/Sample_data/registration_tfms_BCC_scene4/BCC_Skin4_D04_part1_registration_affine_transform.tfm'\n",
    "transformer2_fn = '/Users/minhtran/Git_Packages/Sample_data/registration_tfms_BCC_scene4/BCC_Skin4_D04_part2_registration_bspline_transform.tfm'\n",
    "\n"
   ]
  },
  {
   "cell_type": "code",
   "execution_count": 10,
   "id": "e7a8ce6e",
   "metadata": {},
   "outputs": [],
   "source": [
    "transformer = read_transformation_model(transformer1_fn)"
   ]
  },
  {
   "cell_type": "code",
   "execution_count": 11,
   "id": "b4b4208e",
   "metadata": {},
   "outputs": [
    {
     "data": {
      "text/plain": [
       "<SimpleITK.SimpleITK.CompositeTransform; proxy of <Swig Object of type 'itk::simple::CompositeTransform *' at 0x28faad360> >"
      ]
     },
     "execution_count": 11,
     "metadata": {},
     "output_type": "execute_result"
    }
   ],
   "source": [
    "transformer"
   ]
  },
  {
   "cell_type": "code",
   "execution_count": 5,
   "id": "5758b743",
   "metadata": {},
   "outputs": [],
   "source": [
    "ref_image = imread(path_to_image1)\n",
    "mov_image = imread(path_to_image2)"
   ]
  },
  {
   "cell_type": "code",
   "execution_count": 12,
   "id": "a1a3f778",
   "metadata": {},
   "outputs": [],
   "source": [
    "# viewer = napari.Viewer()\n",
    "pil_moving_img = Image.fromarray(mov_image)\n",
    "pil_fixed_img = Image.fromarray(ref_image)\n",
    "transformed_image  =  sitk_transform_rgb(pil_moving_img, pil_fixed_img, transformer)"
   ]
  },
  {
   "cell_type": "code",
   "execution_count": 14,
   "id": "b37735c1",
   "metadata": {},
   "outputs": [],
   "source": [
    "# transformed_image"
   ]
  },
  {
   "cell_type": "code",
   "execution_count": 16,
   "id": "e5ac334e",
   "metadata": {},
   "outputs": [
    {
     "data": {
      "text/plain": [
       "PIL.Image.Image"
      ]
     },
     "execution_count": 16,
     "metadata": {},
     "output_type": "execute_result"
    }
   ],
   "source": [
    "type(transformed_image)"
   ]
  },
  {
   "cell_type": "code",
   "execution_count": 22,
   "id": "8fef1ef0",
   "metadata": {},
   "outputs": [
    {
     "data": {
      "text/plain": [
       "(16225, 6148, 3)"
      ]
     },
     "execution_count": 22,
     "metadata": {},
     "output_type": "execute_result"
    }
   ],
   "source": [
    "ref_image.shape"
   ]
  },
  {
   "cell_type": "code",
   "execution_count": 24,
   "id": "9d8e2cfb",
   "metadata": {},
   "outputs": [
    {
     "data": {
      "text/plain": [
       "(15664, 5533, 3)"
      ]
     },
     "execution_count": 24,
     "metadata": {},
     "output_type": "execute_result"
    }
   ],
   "source": [
    "mov_image.shape"
   ]
  },
  {
   "cell_type": "code",
   "execution_count": 21,
   "id": "cc40da87",
   "metadata": {},
   "outputs": [
    {
     "data": {
      "text/plain": [
       "(16225, 6148, 3)"
      ]
     },
     "execution_count": 21,
     "metadata": {},
     "output_type": "execute_result"
    }
   ],
   "source": [
    "np.array(transformed_image).shape"
   ]
  },
  {
   "cell_type": "code",
   "execution_count": 13,
   "id": "04e55e85",
   "metadata": {},
   "outputs": [],
   "source": [
    "# read the image data as numpy\n",
    "img = image.get_image_data()"
   ]
  },
  {
   "cell_type": "code",
   "execution_count": 18,
   "id": "8a70ce85",
   "metadata": {},
   "outputs": [
    {
     "data": {
      "text/plain": [
       "(1, 8, 1, 6781, 15165)"
      ]
     },
     "execution_count": 18,
     "metadata": {},
     "output_type": "execute_result"
    }
   ],
   "source": [
    "img.shape"
   ]
  },
  {
   "cell_type": "code",
   "execution_count": null,
   "id": "051577d6",
   "metadata": {},
   "outputs": [],
   "source": []
  }
 ],
 "metadata": {
  "kernelspec": {
   "display_name": "Python 3 (ipykernel)",
   "language": "python",
   "name": "python3"
  },
  "language_info": {
   "codemirror_mode": {
    "name": "ipython",
    "version": 3
   },
   "file_extension": ".py",
   "mimetype": "text/x-python",
   "name": "python",
   "nbconvert_exporter": "python",
   "pygments_lexer": "ipython3",
   "version": "3.9.15"
  }
 },
 "nbformat": 4,
 "nbformat_minor": 5
}
